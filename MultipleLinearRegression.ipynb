{
  "nbformat": 4,
  "nbformat_minor": 0,
  "metadata": {
    "colab": {
      "provenance": []
    },
    "kernelspec": {
      "name": "python3",
      "display_name": "Python 3"
    },
    "language_info": {
      "name": "python"
    }
  },
  "cells": [
    {
      "cell_type": "code",
      "execution_count": 55,
      "metadata": {
        "id": "ymneOvAfiqND"
      },
      "outputs": [],
      "source": [
        "#Multiple Linear Regression\n"
      ]
    },
    {
      "cell_type": "code",
      "source": [
        "import numpy as np\n",
        "import matplotlib.pyplot as plt\n"
      ],
      "metadata": {
        "id": "_kTH3yy6juVd"
      },
      "execution_count": 56,
      "outputs": []
    },
    {
      "cell_type": "code",
      "source": [
        "#Data\n",
        "\n",
        "X = np.array([[2, 3, 5],\n",
        "              [3, 4, 6],\n",
        "              [4, 5, 7],\n",
        "              [5, 6, 8],\n",
        "              [6, 7, 9]])\n",
        "\n",
        "y = np.array([7, 9, 11, 13, 15])\n",
        "\n"
      ],
      "metadata": {
        "id": "d_6bokznixi-"
      },
      "execution_count": 57,
      "outputs": []
    },
    {
      "cell_type": "code",
      "source": [
        "#Adding a column of ones to X for the intercept term\n",
        "\n",
        "X_b = np.c_[np.ones((X.shape[0], 1)), X]\n",
        "\n",
        "# [\n",
        "#   [1, 1, 2, 3],\n",
        "#   [1, 4, 5, 6],\n",
        "#   [1, 7, 8, 9],\n",
        "#   [1, 10, 11, 12],\n",
        "#   [1, 13, 14, 15]\n",
        "# ]\n",
        "\n",
        "\n",
        "#Hyperparameters\n",
        "\n",
        "learning_rate = 0.01  # Learning rate\n",
        "epochs = 1000  # Number of iterations\n",
        "\n",
        "theta = np.zeros(X_b.shape[1])\n",
        "# [0, 0, 0, 0]\n",
        "\n",
        "m = len(y)\n",
        "\n",
        "for epoch in range(epochs):\n",
        "  y_pred = X_b.dot(theta)\n",
        "  gradients = (X_b.T.dot(y_pred - y)) / m\n",
        "  theta -= learning_rate * gradients\n",
        "\n",
        "y_pred = X_b.dot(theta)\n",
        "MSE =  np.mean((y_pred - y) ** 2)\n",
        "\n",
        "print(\"Parameters : \",theta)\n",
        "print(\"Predicted Values : \",y_pred)\n",
        "print(\"Actual Values : \",y)\n",
        "print(\"Mean Squared Error : \",MSE)\n",
        "\n"
      ],
      "metadata": {
        "colab": {
          "base_uri": "https://localhost:8080/"
        },
        "id": "adV-lRV6kBzo",
        "outputId": "f3c345b5-2327-4528-a371-404dc374f2d0"
      },
      "execution_count": 58,
      "outputs": [
        {
          "output_type": "stream",
          "name": "stdout",
          "text": [
            "Parameters :  [0.06045048 0.58552559 0.64597607 0.76687702]\n",
            "Predicted Values :  [ 7.00381498  9.00219366 11.00057235 12.99895103 14.99732971]\n",
            "Actual Values :  [ 7  9 11 13 15]\n",
            "Mean Squared Error :  5.584923152835565e-06\n"
          ]
        }
      ]
    },
    {
      "cell_type": "code",
      "source": [
        "#Normalizing the Feautres\n",
        "# Subtracting mean and dividing with standard deviation\n",
        "\n",
        "X_mean = np.mean(X, axis=0)  # Mean of each column\n",
        "X_std = np.std(X, axis=0)    # Standard deviation of each column\n",
        "X_normalized = (X - X_mean) / X_std  # Normalize X\n",
        "\n",
        "X_b = np.c_[np.ones((X.shape[0], 1)), X_normalized]\n",
        "\n",
        "# [\n",
        "#   [1, 1, 2, 3],\n",
        "#   [1, 4, 5, 6],\n",
        "#   [1, 7, 8, 9],\n",
        "#   [1, 10, 11, 12],\n",
        "#   [1, 13, 14, 15]\n",
        "# ]\n",
        "\n",
        "\n",
        "#Hyperparameters\n",
        "\n",
        "learning_rate = 0.01  # Learning rate\n",
        "epochs = 1000  # Number of iterations\n",
        "\n",
        "theta = np.zeros(X_b.shape[1])\n",
        "# [0, 0, 0, 0]\n",
        "\n",
        "m = len(y)\n",
        "\n",
        "#J(θ) ---> Error Term\n",
        "\n",
        "#J(θ) = 1/2m * Σ(hθ(x(i)) - y(i))^2          hθ(x(i) = Predicted Values\n",
        "\n",
        "#∂J(θ)/∂θj = 1/m * Σ(hθ(x(i)) - y(i)) * x_j(i)\n",
        "\n",
        "#θj = θj - α * ∂J(θ)/∂θj\n",
        "\n",
        "#θj = θj - α * 1/m * Σ(hθ(x(i)) - y(i)) * x_j(i)\n",
        "\n",
        "#θ = θ - α/m * X^T * (Xθ - y)   ---> Gradient\n",
        "\n",
        "\n",
        "\n",
        "\n",
        "for epoch in range(epochs):\n",
        "  y_pred = X_b.dot(theta)\n",
        "  gradients = (X_b.T.dot(y_pred - y)) / m\n",
        "  theta -= learning_rate * gradients\n",
        "\n",
        "y_pred = X_b.dot(theta)\n",
        "MSE =  np.mean((y_pred - y) ** 2)\n",
        "\n",
        "print(\"Parameters : \",theta)\n",
        "print(\"Predicted Values : \",y_pred)\n",
        "print(\"Actual Values : \",y)\n",
        "print(\"Mean Squared Error : \",MSE)"
      ],
      "metadata": {
        "colab": {
          "base_uri": "https://localhost:8080/"
        },
        "id": "VNLJZSKloEsb",
        "outputId": "0cc3d952-a0a2-4721-e791-8ce5a5be8557"
      },
      "execution_count": 59,
      "outputs": [
        {
          "output_type": "stream",
          "name": "stdout",
          "text": [
            "Parameters :  [10.99952512  0.94280904  0.94280904  0.94280904]\n",
            "Predicted Values :  [ 6.99952512  8.99952512 10.99952512 12.99952512 14.99952512]\n",
            "Actual Values :  [ 7  9 11 13 15]\n",
            "Mean Squared Error :  2.255145489590781e-07\n"
          ]
        }
      ]
    },
    {
      "cell_type": "code",
      "source": [
        "import matplotlib.pyplot as plt\n",
        "import numpy as np\n",
        "\n",
        "# Assuming X is the original feature matrix, y is the actual target values\n",
        "# X_b contains the bias term and normalized features\n",
        "\n",
        "# Scatter plot for actual values\n",
        "plt.scatter(X[:, 1], y, color='blue', label='Actual Values', alpha=0.6)\n",
        "\n",
        "\n",
        "# Plotting the regression line\n",
        "# Since X is normalized, we directly plot predicted values based on normalized X\n",
        "plt.plot(X[:, 1], y_pred, color='red', label='Regression Line', linewidth=2)\n",
        "\n",
        "print(\"Parameters : \",theta)\n",
        "print(\"Predicted Values : \",y_pred)\n",
        "print(\"Actual Values : \",y)\n",
        "plt.title('Actual vs Predicted Values with Regression Line')\n",
        "plt.xlabel('Feature 1 (Normalized)')\n",
        "plt.ylabel('Target Value')\n",
        "plt.legend()\n",
        "plt.show()\n"
      ],
      "metadata": {
        "colab": {
          "base_uri": "https://localhost:8080/",
          "height": 524
        },
        "id": "OgtJ1LawuQED",
        "outputId": "91b2b12a-a850-4e35-b74f-d30ae91f3991"
      },
      "execution_count": 60,
      "outputs": [
        {
          "output_type": "stream",
          "name": "stdout",
          "text": [
            "Parameters :  [10.99952512  0.94280904  0.94280904  0.94280904]\n",
            "Predicted Values :  [ 6.99952512  8.99952512 10.99952512 12.99952512 14.99952512]\n",
            "Actual Values :  [ 7  9 11 13 15]\n"
          ]
        },
        {
          "output_type": "display_data",
          "data": {
            "text/plain": [
              "<Figure size 640x480 with 1 Axes>"
            ],
            "image/png": "[encoded data removed]"
          },
          "metadata": {}
        }
      ]
    },
    {
      "cell_type": "code",
      "source": [
        "#We can solve Multiple Linear Regression\n",
        "#By finding the Optimal Parameters\n",
        "\n",
        "#X_b = np.c_[np.ones((X.shape[0], 1)), X]\n",
        "\n",
        "# θ = (X_b^T * X_b)^(-1) * X_b^T * y\n",
        "\n",
        "#theta1 = np.linalg.inv(X_b.T.dot(X_b)).dot(X_b.T).dot(y)\n",
        "\n"
      ],
      "metadata": {
        "id": "DDnRif5YoqLP"
      },
      "execution_count": 62,
      "outputs": []
    }
  ]
}