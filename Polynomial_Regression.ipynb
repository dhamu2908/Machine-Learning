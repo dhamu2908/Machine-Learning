{
  "cells": [
    {
      "cell_type": "code",
      "execution_count": null,
      "metadata": {
        "id": "Q42ubTOp3HEN"
      },
      "outputs": [],
      "source": [
        "#Polynomial Regression"
      ]
    },
    {
      "cell_type": "code",
      "source": [
        "import numpy as np\n",
        "from itertools import combinations_with_replacement\n"
      ],
      "metadata": {
        "id": "QqYIsp_bVWhN"
      },
      "execution_count": 1,
      "outputs": []
    },
    {
      "cell_type": "code",
      "source": [
        "data = np.genfromtxt('train_1a.csv', delimiter=',', skip_header=1)\n",
        "X = data[:, :-1]  # Features\n",
        "y = data[:, -1]\n",
        "print(X)\n",
        "print(y)\n",
        "print(len(y))"
      ],
      "metadata": {
        "colab": {
          "base_uri": "https://localhost:8080/"
        },
        "id": "6Nh_5QKWVa8U",
        "outputId": "3e72d13b-090e-46bb-bd95-b3610bbeebfd"
      },
      "execution_count": 5,
      "outputs": [
        {
          "output_type": "stream",
          "name": "stdout",
          "text": [
            "[[ 0.68175682]\n",
            " [-0.96776602]\n",
            " [-0.46740601]\n",
            " [ 0.9866298 ]\n",
            " [ 0.94460134]\n",
            " [ 0.16616121]\n",
            " [-0.92031949]\n",
            " [-0.47704347]\n",
            " [-0.33445636]\n",
            " [-0.54271765]]\n",
            "[-0.79056187 -4.72609114 -1.12768183 -0.73623975 -1.34315615 -0.83858564\n",
            " -3.85682752 -1.79299486 -1.36088834 -1.84463675]\n",
            "10\n"
          ]
        }
      ]
    },
    {
      "cell_type": "code",
      "source": [
        "#Creating design matrix\n",
        "def design_matrix(X, degree):\n",
        "    n, m = X.shape\n",
        "    terms = [np.ones(n)]\n",
        "    for d in range(1, degree + 1):\n",
        "        for combo in combinations_with_replacement(range(m), d):\n",
        "            terms.append(np.prod(X[:, combo], axis=1))\n",
        "    return np.column_stack(terms)\n",
        "\n",
        "# Fit polynomial regression\n",
        "def fit_model(X, y):\n",
        "    return np.linalg.inv(X.T.dot(X)).dot( X.T .dot(y))\n",
        "\n",
        "# Predict\n",
        "def predict(X, theta):\n",
        "    return X.dot(theta)\n"
      ],
      "metadata": {
        "id": "uXuO0ftSWE2-"
      },
      "execution_count": 6,
      "outputs": []
    },
    {
      "cell_type": "code",
      "source": [
        "# Polynomial degree\n",
        "degree = 4\n",
        "\n",
        "# Design matrix and model fitting\n",
        "X_poly = design_matrix(X, degree)\n",
        "theta = fit_model(X_poly, y)\n",
        "\n",
        "print(theta.shape)\n",
        "\n",
        "print(X_poly.shape)\n",
        "\n",
        "# Predictions and RMSE\n",
        "y_pred = predict(X_poly, theta)\n",
        "rmse = np.sqrt(np.mean((y - y_pred) ** 2))\n",
        "\n",
        "print(f\"RMSE: {rmse:.3f}\")"
      ],
      "metadata": {
        "colab": {
          "base_uri": "https://localhost:8080/"
        },
        "id": "qUNp5lQ5WOnG",
        "outputId": "2480c9ff-e229-4641-838c-a8b874c5614c"
      },
      "execution_count": 9,
      "outputs": [
        {
          "output_type": "stream",
          "name": "stdout",
          "text": [
            "(5,)\n",
            "(10, 5)\n",
            "RMSE: 0.232\n"
          ]
        }
      ]
    }
  ],
  "metadata": {
    "colab": {
      "provenance": []
    },
    "kernelspec": {
      "display_name": "Python 3",
      "name": "python3"
    },
    "language_info": {
      "name": "python"
    }
  },
  "nbformat": 4,
  "nbformat_minor": 0
}